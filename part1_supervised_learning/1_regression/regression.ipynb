{
 "cells": [
  {
   "cell_type": "markdown",
   "metadata": {},
   "source": [
    "\n",
    "# Machine Learning with Python\n",
    "\n",
    "Welcome to the **Machine Learning** course! This course is designed to give you hands-on experience with the foundational concepts and advanced techniques in machine learning. You will explore:\n",
    "\n",
    "1. **Supervised Learning**\n",
    "    - Regression algorithms\n",
    "    - Classification algorithms\n",
    "2. **Unsupervised Learning**\n",
    "    - Clustering algorithms\n",
    "    - Dimensionality reduction\n",
    "3. **Fairness and Interpretability**\n",
    "    - Interpretable methods\n",
    "    - Bias evaluation\n",
    "    \n",
    "Throughout the course, you'll engage in projects to solidify your understanding and gain practical skills in implementing machine learning algorithms.  \n",
    "\n",
    "Instructor: Dr. Adrien Dorise  \n",
    "Contact: adrien.dorise@hotmail.com  \n",
    "\n",
    "---\n"
   ]
  },
  {
   "cell_type": "markdown",
   "metadata": {},
   "source": [
    "## Part1.1: Supervised learning - Regression on a synthetic dataset\n",
    "In this project, you will compare multiple regression model on synthetic dataset. The taks will include:  \n",
    "\n",
    "1. **Import and Understand a Dataset**: Learn how to load, preprocess, and explore a dataset to prepare it for training.\n",
    "2. **Train a regression model**: Select and train a regression model using scikit-learn.\n",
    "3. **Evaluate and plot the model performance**: Select a criterion to which you can evaluate the model, and plot its result.\n",
    "4. **Compare multiple regression model, and get the best performance**: Compare multiple models, and find the best model to fit the data.\n",
    "\n",
    "By the end of this project, you'll have a solid understanding of the different regression methods.\n",
    "\n",
    "---"
   ]
  },
  {
   "cell_type": "markdown",
   "metadata": {},
   "source": [
    "## Dataset\n",
    "\n",
    "This exercise will start by importing a simple 2D dataset. The dataset can be found in this repo under:  \n",
    " `part1_supervised_learning/1_regression/regression_dataset.arff`  \n",
    "\n",
    "The code snippet below allows you to load the dataset."
   ]
  },
  {
   "cell_type": "code",
   "execution_count": null,
   "metadata": {},
   "outputs": [],
   "source": [
    "import pandas as pd\n",
    "from scipy.io import arff\n",
    "\n",
    "# Load data from .arff\n",
    "data = arff.loadarff(open('regression_dataset.arff','r'))\n",
    "\n",
    "data = [[float(x[0]),float(x[1])] for x in data[0]]\n",
    "X = [row[0] for row in data]\n",
    "y = [row[1] for row in data]\n",
    "\n"
   ]
  },
  {
   "cell_type": "markdown",
   "metadata": {},
   "source": [
    "## Data visualisation\n",
    "\n",
    "**Your job**:\n",
    "- Print the first five samples of the dataset.\n",
    "- Plot the dataset using matplotlib plt.scatter method.\n"
   ]
  },
  {
   "cell_type": "code",
   "execution_count": null,
   "metadata": {},
   "outputs": [],
   "source": [
    "import matplotlib.pyplot as plt\n",
    "\n"
   ]
  },
  {
   "cell_type": "markdown",
   "metadata": {},
   "source": [
    "## Data preparation\n",
    "\n",
    "**Your job**:\n",
    "- Normalise the dataset between [0,1] using **MinMaxScaler** (https://scikit-learn.org/stable/modules/generated/sklearn.preprocessing.MinMaxScaler.html).\n",
    "    - Normalization ensures that all features contribute equally by scaling them to a common range, preventing models from being biased toward features with larger values. It also helps gradient-based algorithms converge faster and improves overall model performance.\n",
    "- Plot the normalised dataset using matplotlib."
   ]
  },
  {
   "cell_type": "code",
   "execution_count": null,
   "metadata": {},
   "outputs": [],
   "source": [
    "from sklearn.preprocessing import MinMaxScaler\n",
    "import matplotlib.pyplot as plt\n",
    "\n",
    "\n",
    "\n"
   ]
  },
  {
   "cell_type": "markdown",
   "metadata": {},
   "source": [
    "## Training regression models\n",
    "\n",
    "**Your job**:\n",
    "- Using the sklearn library (https://scikit-learn.org/stable/supervised_learning.html):\n",
    "    - Train a linear model (https://scikit-learn.org/stable/modules/generated/sklearn.linear_model.LinearRegression.html).\n",
    "    - Train a polynomial model (https://scikit-learn.org/stable/modules/generated/sklearn.preprocessing.PolynomialFeatures.html).\n",
    "- Print the prediction on the first 10 samples for the two models alongside the target value."
   ]
  },
  {
   "cell_type": "code",
   "execution_count": 1,
   "metadata": {},
   "outputs": [],
   "source": [
    "from sklearn.linear_model import LinearRegression, LogisticRegression\n",
    "from sklearn.preprocessing import PolynomialFeatures\n",
    "\n"
   ]
  },
  {
   "cell_type": "markdown",
   "metadata": {},
   "source": [
    "## Evaluating regression models\n",
    "\n",
    "**Your job**:\n",
    "- Using sklearn metrics (https://scikit-learn.org/stable/api/sklearn.metrics.html):\n",
    "    - Select at least two metrics.\n",
    "    - Evaluate your trained models on these metrics.\n",
    "    - Compare and conclude about the performance of the models.\n"
   ]
  },
  {
   "cell_type": "code",
   "execution_count": null,
   "metadata": {},
   "outputs": [],
   "source": [
    "from sklearn.metrics import mean_squared_error, mean_absolute_error\n"
   ]
  },
  {
   "cell_type": "markdown",
   "metadata": {},
   "source": [
    "## Improve regression \n",
    "\n",
    "**Your job**:\n",
    "- Modify the regression models and parameters.\n",
    "    - Train at least **three** more models.\n",
    "- Apply the pipeline created before.\n",
    "- Try to achieve the best performance with the lightest model.\n",
    "- Display your different architectures."
   ]
  },
  {
   "cell_type": "code",
   "execution_count": null,
   "metadata": {},
   "outputs": [],
   "source": []
  },
  {
   "cell_type": "markdown",
   "metadata": {},
   "source": [
    "## Plot regression models\n",
    "\n",
    "**Your job**:\n",
    "- On the same plot:\n",
    "    - Plot the dataset using plt.scatter.\n",
    "    - Plot at least three regression line using plt.plot.\n",
    "- *Don't forget to add a legend, axis names and title.*"
   ]
  },
  {
   "cell_type": "code",
   "execution_count": null,
   "metadata": {},
   "outputs": [],
   "source": []
  }
 ],
 "metadata": {
  "kernelspec": {
   "display_name": ".venv",
   "language": "python",
   "name": "python3"
  },
  "language_info": {
   "codemirror_mode": {
    "name": "ipython",
    "version": 3
   },
   "file_extension": ".py",
   "mimetype": "text/x-python",
   "name": "python",
   "nbconvert_exporter": "python",
   "pygments_lexer": "ipython3",
   "version": "3.11.4"
  }
 },
 "nbformat": 4,
 "nbformat_minor": 2
}
